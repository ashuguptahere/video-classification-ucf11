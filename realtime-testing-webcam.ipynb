{
 "cells": [
  {
   "cell_type": "code",
   "execution_count": null,
   "metadata": {},
   "outputs": [],
   "source": [
    "# Importing Essential Libraries\n",
    "import os\n",
    "import cv2\n",
    "import time\n",
    "import numpy as np"
   ]
  },
  {
   "cell_type": "code",
   "execution_count": null,
   "metadata": {},
   "outputs": [],
   "source": [
    "# Data Directory\n",
    "dataset = 'UCF11_updated_mpg/' # Enter your own dataset folder name"
   ]
  },
  {
   "cell_type": "code",
   "execution_count": null,
   "metadata": {},
   "outputs": [],
   "source": [
    "# Saved Model Name\n",
    "modelname = r\"foldername/filename.h5\" # Enter your own modelname that you trained"
   ]
  },
  {
   "cell_type": "code",
   "execution_count": null,
   "metadata": {},
   "outputs": [],
   "source": [
    "# Categories of y-variable\n",
    "categories = os.listdir(dataset)"
   ]
  },
  {
   "cell_type": "code",
   "execution_count": null,
   "metadata": {},
   "outputs": [],
   "source": [
    "# Loading Saved Model\n",
    "from tensorflow.keras.models import load_model\n",
    "model = load_model(modelname)#, compile=False # For fast compilation"
   ]
  },
  {
   "cell_type": "code",
   "execution_count": null,
   "metadata": {},
   "outputs": [],
   "source": [
    "# # Preparing the predicting image\n",
    "# def prepare(file):\n",
    "#    IMG_SIZE = 224\n",
    "#    img_array = cv2.imread(file, cv2.IMREAD_GRAYSCALE)\n",
    "#    new_array = cv2.resize(img_array, (IMG_SIZE, IMG_SIZE))\n",
    "#    return new_array.reshape(-1, IMG_SIZE, IMG_SIZE, 1)"
   ]
  },
  {
   "cell_type": "code",
   "execution_count": null,
   "metadata": {},
   "outputs": [],
   "source": [
    "# def load_image(file, show = False):\n",
    "#    img = cv2.imread(file)\n",
    "#    # cv2.imshow('image', img)s\n",
    "#    img = cv2.resize(img, (224, 224))\n",
    "#    img = np.expand_dims(img, axis = 0)\n",
    "#    img = img / 255.\n",
    "#    if show:\n",
    "#        plt.imshow(img[0])\n",
    "#        plt.axis('off')\n",
    "#        plt.show()\n",
    "#    return img"
   ]
  },
  {
   "cell_type": "code",
   "execution_count": null,
   "metadata": {},
   "outputs": [],
   "source": [
    "# Enabling WebCam to Capture Images\n",
    "capture = cv2.VideoCapture(\"test/basketball.mpg\") # You can also use WebCam continuous feed to test in realtime"
   ]
  },
  {
   "cell_type": "code",
   "execution_count": null,
   "metadata": {},
   "outputs": [],
   "source": [
    "# Actual Processing and Prediction of the image until camera is ON using OpenCV\n",
    "while True:\n",
    "    stime = time.time()\n",
    "    ret, frame = capture.read()\n",
    "    if ret:\n",
    "        try:\n",
    "            img_size = 224\n",
    "\n",
    "            cropped_img = frame#[0:224, 0:224]\n",
    "            img_array = cropped_img\n",
    "            img_array = cv2.resize(img_array, (img_size, img_size))\n",
    "            img_array = np.expand_dims(img_array, axis = 0)\n",
    "            img_array = img_array / 255.\n",
    "                        \n",
    "            # cv2.imshow('frame', frame)\n",
    "            # cv2.imshow('Cropped Img', cropped_img)\n",
    "            \n",
    "            prediction = model.predict([img_array])\n",
    "            # print(categories[np.argmax(prediction)])\n",
    "            label = categories[np.argmax(prediction)]\n",
    "            cv2.putText(frame,\n",
    "                        label,\n",
    "                        (10, 25),\n",
    "                        cv2.FONT_HERSHEY_SIMPLEX,\n",
    "                        0.8,\n",
    "                        (0, 0, 0),\n",
    "                        2)\n",
    "            cv2.imshow('Video Classification', frame)            \n",
    "            # print('FPS {:.1f}'.format(1 / (time.time() - stime)))\n",
    "        except:\n",
    "            pass\n",
    "    # When 'Q' is presses the pop-up will exit\n",
    "    if cv2.waitKey(1) & 0xFF == ord('q'):\n",
    "        break\n",
    "\n",
    "# Destroying the Session\n",
    "capture.release()\n",
    "cv2.destroyAllWindows()"
   ]
  }
 ],
 "metadata": {
  "kernelspec": {
   "display_name": "Python 3",
   "language": "python",
   "name": "python3"
  },
  "language_info": {
   "codemirror_mode": {
    "name": "ipython",
    "version": 3
   },
   "file_extension": ".py",
   "mimetype": "text/x-python",
   "name": "python",
   "nbconvert_exporter": "python",
   "pygments_lexer": "ipython3",
   "version": "3.8.5"
  }
 },
 "nbformat": 4,
 "nbformat_minor": 4
}
