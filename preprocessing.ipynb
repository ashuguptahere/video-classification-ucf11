{
 "cells": [
  {
   "cell_type": "code",
   "execution_count": 1,
   "metadata": {},
   "outputs": [],
   "source": [
    "# Importing Essential Libraries\n",
    "import os\n",
    "import cv2\n",
    "import glob\n",
    "import random\n",
    "from tqdm import tqdm"
   ]
  },
  {
   "cell_type": "code",
   "execution_count": 2,
   "metadata": {},
   "outputs": [],
   "source": [
    "# Required Parameters\n",
    "dataset = \"UCF11_updated_mpg/\"          # Dataset path\n",
    "dataset2 = \"dataset/\"                   # Dataset2 path\n",
    "train_path = \"training_set/\"            # Training path\n",
    "test_path = \"testing_set/\"              # Testing path\n",
    "no_of_frames = 1650                     # Total number of frames to be extracted\n",
    "categories = os.listdir(dataset)        # Name of each class/category"
   ]
  },
  {
   "cell_type": "code",
   "execution_count": 3,
   "metadata": {},
   "outputs": [
    {
     "name": "stdout",
     "output_type": "stream",
     "text": [
      "Folder dataset/ created...\n"
     ]
    }
   ],
   "source": [
    "# Creating dataset directory\n",
    "try:\n",
    "    os.mkdir(dataset2)\n",
    "    print(\"Folder {} created...\".format(dataset2))\n",
    "except:\n",
    "    print(\"A folder {} already exists...\".format(dataset2))"
   ]
  },
  {
   "cell_type": "code",
   "execution_count": 4,
   "metadata": {},
   "outputs": [
    {
     "name": "stdout",
     "output_type": "stream",
     "text": [
      "Folder training_set/ created...\n"
     ]
    }
   ],
   "source": [
    "# Creating training_set directory\n",
    "try:\n",
    "    os.mkdir(train_path)\n",
    "    print(\"Folder {} created...\".format(train_path))\n",
    "except:\n",
    "    print(\"A folder {} already exists...\".format(train_path))"
   ]
  },
  {
   "cell_type": "code",
   "execution_count": 5,
   "metadata": {},
   "outputs": [
    {
     "name": "stdout",
     "output_type": "stream",
     "text": [
      "Folder testing_set/ created...\n"
     ]
    }
   ],
   "source": [
    "# Creating testing_set directory\n",
    "try:\n",
    "    os.mkdir(test_path)\n",
    "    print(\"Folder {} created...\".format(test_path))\n",
    "except:\n",
    "    print(\"A folder {} already exists...\".format(test_path))"
   ]
  },
  {
   "cell_type": "code",
   "execution_count": 6,
   "metadata": {},
   "outputs": [
    {
     "name": "stdout",
     "output_type": "stream",
     "text": [
      "Folder swing created...\n",
      "Folder soccer_juggling created...\n",
      "Folder biking created...\n",
      "Folder diving created...\n",
      "Folder golf_swing created...\n",
      "Folder horse_riding created...\n",
      "Folder basketball created...\n",
      "Folder volleyball_spiking created...\n",
      "Folder trampoline_jumping created...\n",
      "Folder tennis_swing created...\n",
      "Folder walking created...\n"
     ]
    }
   ],
   "source": [
    "# Creating same directories for dataset2/ that are already present in the dataset directory\n",
    "for category in categories:\n",
    "    try:\n",
    "        os.mkdir(dataset2 + category)\n",
    "        print(\"Folder {} created...\".format(category))\n",
    "    except:\n",
    "        print(\"A folder already exists, named {}...\".format(category, dataset))"
   ]
  },
  {
   "cell_type": "code",
   "execution_count": 7,
   "metadata": {},
   "outputs": [
    {
     "name": "stdout",
     "output_type": "stream",
     "text": [
      "Folder swing created...\n",
      "Folder soccer_juggling created...\n",
      "Folder biking created...\n",
      "Folder diving created...\n",
      "Folder golf_swing created...\n",
      "Folder horse_riding created...\n",
      "Folder basketball created...\n",
      "Folder volleyball_spiking created...\n",
      "Folder trampoline_jumping created...\n",
      "Folder tennis_swing created...\n",
      "Folder walking created...\n"
     ]
    }
   ],
   "source": [
    "# Creating same directories for training_set/ that are already present in the dataset directory\n",
    "for category in categories:\n",
    "    try:\n",
    "        os.mkdir(train_path + category)\n",
    "        print(\"Folder {} created...\".format(category))\n",
    "    except:\n",
    "        print(\"A folder already exists, named {}...\".format(category, train_path))"
   ]
  },
  {
   "cell_type": "code",
   "execution_count": 8,
   "metadata": {},
   "outputs": [
    {
     "name": "stdout",
     "output_type": "stream",
     "text": [
      "Folder swing created...\n",
      "Folder soccer_juggling created...\n",
      "Folder biking created...\n",
      "Folder diving created...\n",
      "Folder golf_swing created...\n",
      "Folder horse_riding created...\n",
      "Folder basketball created...\n",
      "Folder volleyball_spiking created...\n",
      "Folder trampoline_jumping created...\n",
      "Folder tennis_swing created...\n",
      "Folder walking created...\n"
     ]
    }
   ],
   "source": [
    "# Creating same directories for testing_set/ that are already present in the dataset directory\n",
    "for category in categories:\n",
    "    try:\n",
    "        os.mkdir(test_path  + category)\n",
    "        print(\"Folder {} created...\".format(category))\n",
    "    except:\n",
    "        print(\"A folder already exists, named {}...\".format(category, test_path))"
   ]
  },
  {
   "cell_type": "code",
   "execution_count": 9,
   "metadata": {},
   "outputs": [
    {
     "name": "stderr",
     "output_type": "stream",
     "text": [
      "100%|██████████| 11/11 [03:09<00:00, 17.21s/it]\n"
     ]
    }
   ],
   "source": [
    "# Combining multiple videos into single video file\n",
    "for category in tqdm(categories):\n",
    "    videofiles = [dataset + category + \"/\" + n for n in os.listdir(dataset + category) if n[-4:]==\".mpg\"]\n",
    "    video_index = 0\n",
    "    cap = cv2.VideoCapture(videofiles[0])    \n",
    "    fourcc = cv2.VideoWriter_fourcc(*\"XVID\")\n",
    "    # fourcc = cv2.VideoWriter_fourcc(*'MP4V')\n",
    "    out = cv2.VideoWriter(\"{}/{}/{}.mpg\".format(dataset2, category, category), fourcc, 25, (320, 240))\n",
    "    while(cap.isOpened()):\n",
    "        ret, frame = cap.read()\n",
    "        if frame is None:\n",
    "            video_index += 1\n",
    "            if video_index >= len(videofiles):\n",
    "                break\n",
    "            else:\n",
    "                cap = cv2.VideoCapture(videofiles[ video_index ])\n",
    "                ret, frame = cap.read()\n",
    "                out.write(frame)\n",
    "        else:\n",
    "            out.write(frame)\n",
    "    cap.release()\n",
    "    out.release()\n",
    "    cv2.destroyAllWindows()"
   ]
  },
  {
   "cell_type": "code",
   "execution_count": 10,
   "metadata": {},
   "outputs": [
    {
     "name": "stderr",
     "output_type": "stream",
     "text": [
      "100%|██████████| 11/11 [00:00<00:00, 397.79it/s]"
     ]
    },
    {
     "name": "stdout",
     "output_type": "stream",
     "text": [
      "[25130, 42458, 30554, 26591, 22528, 34641, 18244, 12076, 21290, 25016, 25591]\n"
     ]
    },
    {
     "name": "stderr",
     "output_type": "stream",
     "text": [
      "\n"
     ]
    }
   ],
   "source": [
    "# Saving total no. of frames of each classes/categories into an array\n",
    "total_frames = []\n",
    "for category in tqdm(categories):\n",
    "    cap = cv2.VideoCapture(dataset2 + category + \"/\" + category + \".mpg\")\n",
    "    length = int(cap.get(cv2.CAP_PROP_FRAME_COUNT))\n",
    "    total_frames.append(length)\n",
    "    cap.release()\n",
    "    cv2.destroyAllWindows()\n",
    "print(total_frames)"
   ]
  },
  {
   "cell_type": "code",
   "execution_count": 11,
   "metadata": {},
   "outputs": [
    {
     "name": "stderr",
     "output_type": "stream",
     "text": [
      "100%|██████████| 11/11 [01:03<00:00,  5.75s/it]\n"
     ]
    }
   ],
   "source": [
    "# Extracting 1650 images from each category\n",
    "for category in tqdm(categories):\n",
    "    a = glob.glob(dataset2 + category + '/*.mpg')\n",
    "    for i in range(len(a)):\n",
    "        count = 0\n",
    "        cap = cv2.VideoCapture(a[0])\n",
    "        while(cap.isOpened()):\n",
    "            frame_id = cap.get(1)\n",
    "            ret, frame = cap.read()\n",
    "            if ret != True:\n",
    "                print(\"Exiting...\")\n",
    "                break\n",
    "            if frame_id % int(total_frames[categories.index(category)] / no_of_frames) == 0.0:\n",
    "                if count >= no_of_frames:\n",
    "                    break\n",
    "                file_name = train_path + category + '/frame_{}.jpg'.format(count); count += 1;\n",
    "                cv2.imwrite(file_name, frame)\n",
    "        cap.release()\n",
    "        cv2.destroyAllWindows()"
   ]
  },
  {
   "cell_type": "code",
   "execution_count": 12,
   "metadata": {},
   "outputs": [],
   "source": [
    "# # Extracting one frame per five frame from the Videos\n",
    "# for category in tqdm(categories):\n",
    "#     count = 0    \n",
    "#     a = glob.glob(dataset + '/' + category + '/*.avi')\n",
    "#     for i in range(len(a)):\n",
    "#         cap = cv2.VideoCapture(a[i])\n",
    "#         frameRate = cap.get(5)\n",
    "#         while(cap.isOpened()):\n",
    "#             frameId = cap.get(1)\n",
    "#             ret, frame = cap.read()\n",
    "#             if (ret != True):\n",
    "#                 break\n",
    "#             if (frameId % math.floor(frameRate) == 0):\n",
    "#                 cv2.imwrite(train_path + '/' + category + '/{}_{}.jpg'.format(category, count), frame)\n",
    "#                 count += 1\n",
    "#         cap.release()"
   ]
  },
  {
   "cell_type": "code",
   "execution_count": 13,
   "metadata": {},
   "outputs": [],
   "source": [
    "# # Extracting every frame from the Videos\n",
    "# for category in tqdm(categories):\n",
    "#     count = 0    \n",
    "#     a = glob.glob(dataset + category + '/*.avi')\n",
    "#     for i in range(len(a)):\n",
    "#         cap = cv2.VideoCapture(a[i])\n",
    "#         # frameRate = cap.get(5)\n",
    "#         while(cap.isOpened()):\n",
    "#             # frameId = cap.get(1)\n",
    "#             ret, frame = cap.read()\n",
    "#             if (ret != True):\n",
    "#                 break\n",
    "#             # if (frameId % math.floor(frameRate) == 0):\n",
    "#             else:\n",
    "#                 cv2.imwrite(train_path + category + '/{}_{}.jpg'.format(category, count), frame)\n",
    "#                 count += 1\n",
    "#         cap.release()"
   ]
  },
  {
   "cell_type": "code",
   "execution_count": 14,
   "metadata": {},
   "outputs": [
    {
     "name": "stderr",
     "output_type": "stream",
     "text": [
      "100%|██████████| 11/11 [00:03<00:00,  2.91it/s]\n"
     ]
    }
   ],
   "source": [
    "# Moving 150 random images from training_set into testing_set\n",
    "for category in tqdm(categories):\n",
    "    sub_file = [file for file in glob.glob(train_path + category + \"/*\")]\n",
    "    test_files = random.sample(sub_file, 150)\n",
    "    for test_file in test_files:\n",
    "        img = cv2.imread(test_file)\n",
    "        os.remove(test_file)\n",
    "        cv2.imwrite(test_path + category + '/' + test_file.split(\"/\")[-1] , img)"
   ]
  },
  {
   "cell_type": "code",
   "execution_count": 15,
   "metadata": {},
   "outputs": [
    {
     "name": "stdout",
     "output_type": "stream",
     "text": [
      "1500 in training & 150 in testing : swing\n",
      "1500 in training & 150 in testing : soccer_juggling\n",
      "1500 in training & 150 in testing : biking\n",
      "1500 in training & 150 in testing : diving\n",
      "1500 in training & 150 in testing : golf_swing\n",
      "1500 in training & 150 in testing : horse_riding\n",
      "1500 in training & 150 in testing : basketball\n",
      "1500 in training & 150 in testing : volleyball_spiking\n",
      "1500 in training & 150 in testing : trampoline_jumping\n",
      "1500 in training & 150 in testing : tennis_swing\n",
      "1500 in training & 150 in testing : walking\n"
     ]
    }
   ],
   "source": [
    "# Counting number of images in each folder of training and testing set\n",
    "for category in categories:\n",
    "    print(len(os.listdir(train_path + category)), \"in training &\",\n",
    "          len(os.listdir(test_path + category)), \"in testing\", \":\", category)"
   ]
  }
 ],
 "metadata": {
  "kernelspec": {
   "display_name": "Python 3",
   "language": "python",
   "name": "python3"
  },
  "language_info": {
   "codemirror_mode": {
    "name": "ipython",
    "version": 3
   },
   "file_extension": ".py",
   "mimetype": "text/x-python",
   "name": "python",
   "nbconvert_exporter": "python",
   "pygments_lexer": "ipython3",
   "version": "3.8.5"
  }
 },
 "nbformat": 4,
 "nbformat_minor": 4
}
